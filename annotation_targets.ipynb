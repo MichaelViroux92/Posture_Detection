{
 "cells": [
  {
   "cell_type": "code",
   "execution_count": null,
   "id": "1a64006d",
   "metadata": {},
   "outputs": [],
   "source": [
    "# Imports\n",
    "from annotation_targets import Annotater\n",
    "import os\n",
    "import matplotlib.pyplot as plt\n",
    "import matplotlib.image as mpimg\n",
    "import matplotlib\n",
    "from IPython.display import clear_output"
   ]
  },
  {
   "cell_type": "code",
   "execution_count": null,
   "id": "23992595",
   "metadata": {},
   "outputs": [],
   "source": [
    "\n",
    "posture_images_annotator = Annotater(os.path.join(os.getcwd(), 'data', 'raw_images', 'archive', 'images', 'train'))"
   ]
  },
  {
   "cell_type": "code",
   "execution_count": null,
   "id": "0711e6a2",
   "metadata": {},
   "outputs": [],
   "source": [
    "posture_images_annotator.rename_images()"
   ]
  },
  {
   "cell_type": "code",
   "execution_count": null,
   "id": "560e5e07",
   "metadata": {},
   "outputs": [],
   "source": [
    "posture_images_annotator.annotate_images()"
   ]
  }
 ],
 "metadata": {
  "kernelspec": {
   "display_name": "Python (posedetection)",
   "language": "python",
   "name": "posedetection"
  },
  "language_info": {
   "codemirror_mode": {
    "name": "ipython",
    "version": 3
   },
   "file_extension": ".py",
   "mimetype": "text/x-python",
   "name": "python",
   "nbconvert_exporter": "python",
   "pygments_lexer": "ipython3",
   "version": "3.12.3"
  }
 },
 "nbformat": 4,
 "nbformat_minor": 5
}
