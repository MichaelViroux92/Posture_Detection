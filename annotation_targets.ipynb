{
 "cells": [
  {
   "cell_type": "code",
   "execution_count": 1,
   "id": "e871f943",
   "metadata": {},
   "outputs": [],
   "source": [
    "import os\n",
    "import matplotlib.pyplot as plt\n",
    "import matplotlib.image as mpimg\n",
    "import matplotlib\n",
    "from IPython.display import clear_output\n",
    "\n",
    "\n",
    "script_dir = os.getcwd()\n",
    "raw_images_folder_path = os.path.join(script_dir, 'data', 'raw_images', 'archive', 'images', 'train')\n",
    "previous_status = None\n",
    "\n",
    "for image_file_name in os.listdir(raw_images_folder_path):\n",
    "    if image_file_name.lower().endswith(('.jpg', '.png', '.jpeg')):\n",
    "        raw_image_path = os.path.join(raw_images_folder_path, image_file_name)\n",
    "        image = mpimg.imread(raw_image_path)\n",
    "\n",
    "        clear_output(wait=True)\n",
    "\n",
    "        if previous_status:\n",
    "            print(previous_status)\n",
    "\n",
    "        plt.imshow(image)\n",
    "        plt.axis('off')\n",
    "        plt.title(image_file_name)\n",
    "        plt.show()\n",
    "\n",
    "        keep_image = input('Keep this image? (y/n): ')\n",
    "\n",
    "        plt.close()\n",
    "\n",
    "        if keep_image.lower() == 'n':\n",
    "            previous_status = f\"Image deleted\"\n",
    "            # os.remove(raw_image_path)\n",
    "        else:\n",
    "            annotate_shoulder = int(input('Annotate shoulder position (-1, 0, 1): '))\n",
    "            annotate_neck = int(input('Annotate neck position (-1, 0, 1): '))\n",
    "            annotate_thoraric_spine = int(input('Annotate thoraric spine (0, 1): '))\n",
    "            annotate_lumbar_spine = int(input('Annotate lumar spine (0, 1): '))\n",
    "            annotate_pelvis = int(input('Annotate pelvis position (0, 1): '))\n",
    "            \n",
    "            previous_status = f\"Image annotated\"\n",
    "\n",
    "       "
   ]
  },
  {
   "cell_type": "markdown",
   "metadata": {},
   "source": []
  }
 ],
 "metadata": {
  "kernelspec": {
   "display_name": "Python (posedetection)",
   "language": "python",
   "name": "posedetection"
  },
  "language_info": {
   "codemirror_mode": {
    "name": "ipython",
    "version": 3
   },
   "file_extension": ".py",
   "mimetype": "text/x-python",
   "name": "python",
   "nbconvert_exporter": "python",
   "pygments_lexer": "ipython3",
   "version": "3.12.3"
  }
 },
 "nbformat": 4,
 "nbformat_minor": 5
}
